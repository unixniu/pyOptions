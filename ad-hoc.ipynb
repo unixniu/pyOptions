{
 "cells": [
  {
   "cell_type": "code",
   "execution_count": 15,
   "metadata": {},
   "outputs": [
    {
     "data": {
      "text/html": [
       "<div>\n",
       "<style scoped>\n",
       "    .dataframe tbody tr th:only-of-type {\n",
       "        vertical-align: middle;\n",
       "    }\n",
       "\n",
       "    .dataframe tbody tr th {\n",
       "        vertical-align: top;\n",
       "    }\n",
       "\n",
       "    .dataframe thead th {\n",
       "        text-align: right;\n",
       "    }\n",
       "</style>\n",
       "<table border=\"1\" class=\"dataframe\">\n",
       "  <thead>\n",
       "    <tr style=\"text-align: right;\">\n",
       "      <th></th>\n",
       "      <th>contract</th>\n",
       "      <th>direction</th>\n",
       "      <th>vol</th>\n",
       "    </tr>\n",
       "  </thead>\n",
       "  <tbody>\n",
       "    <tr>\n",
       "      <th>2021-08-30</th>\n",
       "      <td>510050C2109M03000</td>\n",
       "      <td>L</td>\n",
       "      <td>20</td>\n",
       "    </tr>\n",
       "    <tr>\n",
       "      <th>2021-08-30</th>\n",
       "      <td>510050C2109M03000</td>\n",
       "      <td>S</td>\n",
       "      <td>20</td>\n",
       "    </tr>\n",
       "    <tr>\n",
       "      <th>2021-08-30</th>\n",
       "      <td>510050C2110M02800</td>\n",
       "      <td>L</td>\n",
       "      <td>50</td>\n",
       "    </tr>\n",
       "    <tr>\n",
       "      <th>2021-08-30</th>\n",
       "      <td>510050C2110M03000</td>\n",
       "      <td>S</td>\n",
       "      <td>50</td>\n",
       "    </tr>\n",
       "    <tr>\n",
       "      <th>2021-08-30</th>\n",
       "      <td>M0C5</td>\n",
       "      <td>L</td>\n",
       "      <td>20</td>\n",
       "    </tr>\n",
       "    <tr>\n",
       "      <th>2021-08-30</th>\n",
       "      <td>M0C6</td>\n",
       "      <td>S</td>\n",
       "      <td>20</td>\n",
       "    </tr>\n",
       "    <tr>\n",
       "      <th>2021-08-30</th>\n",
       "      <td>M1C4</td>\n",
       "      <td>L</td>\n",
       "      <td>50</td>\n",
       "    </tr>\n",
       "    <tr>\n",
       "      <th>2021-08-30</th>\n",
       "      <td>M1C6</td>\n",
       "      <td>S</td>\n",
       "      <td>50</td>\n",
       "    </tr>\n",
       "  </tbody>\n",
       "</table>\n",
       "</div>"
      ],
      "text/plain": [
       "                      contract direction  vol\n",
       "2021-08-30   510050C2109M03000         L   20\n",
       "2021-08-30   510050C2109M03000         S   20\n",
       "2021-08-30   510050C2110M02800         L   50\n",
       "2021-08-30   510050C2110M03000         S   50\n",
       "2021-08-30                M0C5         L   20\n",
       "2021-08-30                M0C6         S   20\n",
       "2021-08-30                M1C4         L   50\n",
       "2021-08-30                M1C6         S   50"
      ]
     },
     "execution_count": 15,
     "metadata": {},
     "output_type": "execute_result"
    }
   ],
   "source": [
    "import pandas as pd\n",
    "\n",
    "df = pd.read_csv('playbook.csv', parse_dates=True, names=['contract', 'direction', 'vol'])\n",
    "df"
   ]
  },
  {
   "cell_type": "code",
   "execution_count": 32,
   "metadata": {},
   "outputs": [
    {
     "name": "stdout",
     "output_type": "stream",
     "text": [
      " 510050C2109M03000  L\n",
      " 510050C2109M03000  S\n",
      " 510050C2110M02800  L\n",
      " 510050C2110M03000  S\n",
      " M0C5  L\n",
      " M0C6  S\n",
      " M1C4  L\n",
      " M1C6  S\n"
     ]
    }
   ],
   "source": [
    "time = pd.Timestamp('20010101')\n",
    "time + pd.Timedelta('1d')\n",
    "for row in df[df.index == pd.Timestamp('20210830')].itertuples(index=False):\n",
    "    print(row.contract, row.direction)"
   ]
  },
  {
   "cell_type": "code",
   "execution_count": 207,
   "metadata": {},
   "outputs": [
    {
     "data": {
      "text/plain": [
       "{'x': 1, 'y': 2}"
      ]
     },
     "execution_count": 207,
     "metadata": {},
     "output_type": "execute_result"
    }
   ],
   "source": [
    "class Condition(dict):\n",
    "    def __init__(self, type, **kargs) -> None:\n",
    "        self.type = type\n",
    "        super().__init__(kargs)\n",
    "\n",
    "c = Condition('a', **{'x':1, 'y':2})\n",
    "c"
   ]
  },
  {
   "cell_type": "code",
   "execution_count": 239,
   "metadata": {},
   "outputs": [
    {
     "name": "stdout",
     "output_type": "stream",
     "text": [
      "              a    b\n",
      "              A    A\n",
      "2000-01-01  100  200\n",
      "2000-01-02  101  201\n",
      "2000-01-03  102  202\n",
      "2000-01-04  103  203\n",
      "2000-01-05  104  204\n",
      "2000-01-06  105  205\n",
      "2000-01-07  106  206\n",
      "2000-01-08  107  207\n",
      "2000-01-09  108  208\n",
      "2000-01-10  109  209\n"
     ]
    },
    {
     "name": "stderr",
     "output_type": "stream",
     "text": [
      "C:\\Users\\xniu\\Anaconda3\\lib\\site-packages\\pandas\\core\\reshape\\merge.py:648: UserWarning:\n",
      "\n",
      "merging between different levels can give an unintended result (2 levels on the left,1 on the right)\n",
      "\n"
     ]
    },
    {
     "data": {
      "text/plain": [
       "Index([('a', 'A'), ('b', 'A'), 'a'], dtype='object')"
      ]
     },
     "execution_count": 239,
     "metadata": {},
     "output_type": "execute_result"
    }
   ],
   "source": [
    "import numpy as np\n",
    "dfa = pd.DataFrame(np.arange(100, 110), pd.date_range('20000101', periods=10, freq='D'), columns=['A'])\n",
    "dfb = pd.DataFrame(np.arange(200, 210), pd.date_range('20000101', periods=10, freq='D'), columns=['A'])\n",
    "concated = pd.concat([dfa, dfb], axis=1, keys=['a', 'b'])\n",
    "print(concated)\n",
    "dfc = pd.DataFrame({'a': range(300,310), 'b': pd.date_range('20000101', periods=10)})\n",
    "dfc = dfc.set_index('b')\n",
    "joined = concated.join(dfc)\n",
    "joined.columns\n"
   ]
  },
  {
   "cell_type": "code",
   "execution_count": 47,
   "metadata": {},
   "outputs": [
    {
     "data": {
      "text/plain": [
       "2.3"
      ]
     },
     "execution_count": 47,
     "metadata": {},
     "output_type": "execute_result"
    }
   ],
   "source": [
    "def atm(spot_price:float):\n",
    "    x = round(spot_price, 1)\n",
    "    if x < 3.0:\n",
    "        mid = x + (0.05 if x < spot_price else -0.05)\n",
    "        return mid if abs(spot_price - x) > abs(spot_price - mid) else x\n",
    "    else: \n",
    "        return x\n",
    "\n",
    "atm(2.283)\n"
   ]
  },
  {
   "cell_type": "code",
   "execution_count": 194,
   "metadata": {},
   "outputs": [
    {
     "ename": "TypeError",
     "evalue": "__new__() got an unexpected keyword argument 'a'",
     "output_type": "error",
     "traceback": [
      "\u001b[1;31m---------------------------------------------------------------------------\u001b[0m",
      "\u001b[1;31mTypeError\u001b[0m                                 Traceback (most recent call last)",
      "\u001b[1;32m<ipython-input-194-9233e41d04e0>\u001b[0m in \u001b[0;36m<module>\u001b[1;34m\u001b[0m\n\u001b[0;32m      3\u001b[0m \u001b[0md\u001b[0m \u001b[1;33m=\u001b[0m \u001b[0mTrade\u001b[0m\u001b[1;33m.\u001b[0m\u001b[0m_field_defaults\u001b[0m\u001b[1;33m\u001b[0m\u001b[1;33m\u001b[0m\u001b[0m\n\u001b[0;32m      4\u001b[0m \u001b[0md\u001b[0m\u001b[1;33m[\u001b[0m\u001b[1;34m'a'\u001b[0m\u001b[1;33m]\u001b[0m \u001b[1;33m=\u001b[0m \u001b[1;36m0\u001b[0m\u001b[1;33m\u001b[0m\u001b[1;33m\u001b[0m\u001b[0m\n\u001b[1;32m----> 5\u001b[1;33m \u001b[0mTrade\u001b[0m\u001b[1;33m(\u001b[0m\u001b[1;33m**\u001b[0m\u001b[0md\u001b[0m\u001b[1;33m)\u001b[0m\u001b[1;33m\u001b[0m\u001b[1;33m\u001b[0m\u001b[0m\n\u001b[0m",
      "\u001b[1;31mTypeError\u001b[0m: __new__() got an unexpected keyword argument 'a'"
     ]
    }
   ],
   "source": [
    "from collections import namedtuple\n",
    "Trade = namedtuple('Trade', 'name symbol direction vol date trigger', defaults=['', '', 'L', 0, None, None])\n",
    "d = Trade._field_defaults\n",
    "d['a'] = 0\n",
    "Trade(**d)"
   ]
  },
  {
   "cell_type": "code",
   "execution_count": 214,
   "metadata": {},
   "outputs": [
    {
     "name": "stdout",
     "output_type": "stream",
     "text": [
      "[{'type': 'pl', 'expression': '$>0.8'}, {'type': 'linked', 'position': 'primary', 'on': 'close'}]\n",
      "{'date': datetime.date(2022, 3, 25), 'symbol': '510050C2204M02900', 'direction': 'S', 'volume': 20, 'closePolicy': [{'type': 'pl', 'expression': '$>0.8'}, {'type': 'linked', 'position': 'primary', 'on': 'close'}]}\n"
     ]
    }
   ],
   "source": [
    "import yaml\n",
    "with open('playbook.yml') as f:\n",
    "    res = yaml.safe_load(f)\n",
    "    print(res['accounts'][1]['trades'][1]['closePolicy'])\n",
    "    print(res['accounts'][1]['trades'][1])"
   ]
  },
  {
   "cell_type": "code",
   "execution_count": 130,
   "metadata": {},
   "outputs": [
    {
     "name": "stdout",
     "output_type": "stream",
     "text": [
      "None\n",
      "<re.Match object; span=(0, 17), match='510050C2203M03600'>\n"
     ]
    }
   ],
   "source": [
    "import re\n",
    "m = re.match(r'{([CP]\\dM\\d)}', '{C6S1}')\n",
    "print(m)\n",
    "\n",
    "m = re.match(r'510050[CP]\\d{4}M\\d{5}', '510050C2203M03600')\n",
    "print(m)"
   ]
  },
  {
   "cell_type": "code",
   "execution_count": 100,
   "metadata": {},
   "outputs": [
    {
     "name": "stdout",
     "output_type": "stream",
     "text": [
      "2022-06-30 00:00:00\n",
      "2022-03-31 00:00:00\n",
      "2022-09-30 00:00:00\n",
      "2022-04-30 00:00:00\n",
      "2022-05-31 00:00:00\n",
      "2203\n"
     ]
    }
   ],
   "source": [
    "import pandas as pd\n",
    "date = pd.Timestamp('20220330')\n",
    "x = pd.offsets.QuarterEnd(2, startingMonth=3)\n",
    "print(date + x)\n",
    "print(x.rollforward(date))\n",
    "print(x.rollforward(date) + x)\n",
    "\n",
    "print(pd.Timestamp('20220330') + pd.offsets.MonthEnd(2))\n",
    "print(pd.Timestamp('20220331') + pd.offsets.MonthEnd(2))\n",
    "\n",
    "print(f\"{date.strftime('%y%m')}\")"
   ]
  },
  {
   "cell_type": "code",
   "execution_count": 132,
   "metadata": {},
   "outputs": [
    {
     "data": {
      "text/html": [
       "<div>\n",
       "<style scoped>\n",
       "    .dataframe tbody tr th:only-of-type {\n",
       "        vertical-align: middle;\n",
       "    }\n",
       "\n",
       "    .dataframe tbody tr th {\n",
       "        vertical-align: top;\n",
       "    }\n",
       "\n",
       "    .dataframe thead th {\n",
       "        text-align: right;\n",
       "    }\n",
       "</style>\n",
       "<table border=\"1\" class=\"dataframe\">\n",
       "  <thead>\n",
       "    <tr style=\"text-align: right;\">\n",
       "      <th></th>\n",
       "      <th>日期</th>\n",
       "      <th>开盘</th>\n",
       "      <th>最高</th>\n",
       "      <th>最低</th>\n",
       "      <th>收盘</th>\n",
       "      <th>成交量</th>\n",
       "    </tr>\n",
       "  </thead>\n",
       "  <tbody>\n",
       "    <tr>\n",
       "      <th>0</th>\n",
       "      <td>2021-11-29</td>\n",
       "      <td>0.1971</td>\n",
       "      <td>0.2008</td>\n",
       "      <td>0.1766</td>\n",
       "      <td>0.1972</td>\n",
       "      <td>30513774</td>\n",
       "    </tr>\n",
       "    <tr>\n",
       "      <th>1</th>\n",
       "      <td>2021-11-30</td>\n",
       "      <td>0.2008</td>\n",
       "      <td>0.2084</td>\n",
       "      <td>0.1682</td>\n",
       "      <td>0.1801</td>\n",
       "      <td>39758101</td>\n",
       "    </tr>\n",
       "    <tr>\n",
       "      <th>2</th>\n",
       "      <td>2021-12-01</td>\n",
       "      <td>0.1801</td>\n",
       "      <td>0.1952</td>\n",
       "      <td>0.1729</td>\n",
       "      <td>0.1898</td>\n",
       "      <td>67418913</td>\n",
       "    </tr>\n",
       "    <tr>\n",
       "      <th>3</th>\n",
       "      <td>2021-12-02</td>\n",
       "      <td>0.1851</td>\n",
       "      <td>0.2081</td>\n",
       "      <td>0.1776</td>\n",
       "      <td>0.2003</td>\n",
       "      <td>140634378</td>\n",
       "    </tr>\n",
       "    <tr>\n",
       "      <th>4</th>\n",
       "      <td>2021-12-03</td>\n",
       "      <td>0.2045</td>\n",
       "      <td>0.2237</td>\n",
       "      <td>0.1979</td>\n",
       "      <td>0.2207</td>\n",
       "      <td>58243454</td>\n",
       "    </tr>\n",
       "    <tr>\n",
       "      <th>5</th>\n",
       "      <td>2021-12-06</td>\n",
       "      <td>0.2292</td>\n",
       "      <td>0.2548</td>\n",
       "      <td>0.2275</td>\n",
       "      <td>0.2332</td>\n",
       "      <td>59529638</td>\n",
       "    </tr>\n",
       "    <tr>\n",
       "      <th>6</th>\n",
       "      <td>2021-12-07</td>\n",
       "      <td>0.2473</td>\n",
       "      <td>0.2637</td>\n",
       "      <td>0.2388</td>\n",
       "      <td>0.2536</td>\n",
       "      <td>50294197</td>\n",
       "    </tr>\n",
       "    <tr>\n",
       "      <th>7</th>\n",
       "      <td>2021-12-08</td>\n",
       "      <td>0.2536</td>\n",
       "      <td>0.3072</td>\n",
       "      <td>0.2474</td>\n",
       "      <td>0.3060</td>\n",
       "      <td>40615443</td>\n",
       "    </tr>\n",
       "    <tr>\n",
       "      <th>8</th>\n",
       "      <td>2021-12-09</td>\n",
       "      <td>0.3188</td>\n",
       "      <td>0.3980</td>\n",
       "      <td>0.3082</td>\n",
       "      <td>0.3570</td>\n",
       "      <td>39641041</td>\n",
       "    </tr>\n",
       "    <tr>\n",
       "      <th>9</th>\n",
       "      <td>2021-12-10</td>\n",
       "      <td>0.3470</td>\n",
       "      <td>0.3588</td>\n",
       "      <td>0.3409</td>\n",
       "      <td>0.3497</td>\n",
       "      <td>9573629</td>\n",
       "    </tr>\n",
       "    <tr>\n",
       "      <th>10</th>\n",
       "      <td>2021-12-13</td>\n",
       "      <td>0.3705</td>\n",
       "      <td>0.4261</td>\n",
       "      <td>0.3552</td>\n",
       "      <td>0.3586</td>\n",
       "      <td>33503269</td>\n",
       "    </tr>\n",
       "    <tr>\n",
       "      <th>11</th>\n",
       "      <td>2021-12-14</td>\n",
       "      <td>0.3480</td>\n",
       "      <td>0.3618</td>\n",
       "      <td>0.3350</td>\n",
       "      <td>0.3430</td>\n",
       "      <td>9681920</td>\n",
       "    </tr>\n",
       "    <tr>\n",
       "      <th>12</th>\n",
       "      <td>2021-12-15</td>\n",
       "      <td>0.3300</td>\n",
       "      <td>0.3470</td>\n",
       "      <td>0.3070</td>\n",
       "      <td>0.3070</td>\n",
       "      <td>7560043</td>\n",
       "    </tr>\n",
       "    <tr>\n",
       "      <th>13</th>\n",
       "      <td>2021-12-16</td>\n",
       "      <td>0.3146</td>\n",
       "      <td>0.3197</td>\n",
       "      <td>0.2981</td>\n",
       "      <td>0.3160</td>\n",
       "      <td>20621051</td>\n",
       "    </tr>\n",
       "    <tr>\n",
       "      <th>14</th>\n",
       "      <td>2021-12-17</td>\n",
       "      <td>0.3157</td>\n",
       "      <td>0.3175</td>\n",
       "      <td>0.2689</td>\n",
       "      <td>0.2711</td>\n",
       "      <td>12724804</td>\n",
       "    </tr>\n",
       "    <tr>\n",
       "      <th>15</th>\n",
       "      <td>2021-12-20</td>\n",
       "      <td>0.2637</td>\n",
       "      <td>0.2807</td>\n",
       "      <td>0.2388</td>\n",
       "      <td>0.2425</td>\n",
       "      <td>10346893</td>\n",
       "    </tr>\n",
       "    <tr>\n",
       "      <th>16</th>\n",
       "      <td>2021-12-21</td>\n",
       "      <td>0.2504</td>\n",
       "      <td>0.2643</td>\n",
       "      <td>0.2457</td>\n",
       "      <td>0.2594</td>\n",
       "      <td>6888985</td>\n",
       "    </tr>\n",
       "    <tr>\n",
       "      <th>17</th>\n",
       "      <td>2021-12-22</td>\n",
       "      <td>0.2685</td>\n",
       "      <td>0.2699</td>\n",
       "      <td>0.2398</td>\n",
       "      <td>0.2398</td>\n",
       "      <td>7812683</td>\n",
       "    </tr>\n",
       "  </tbody>\n",
       "</table>\n",
       "</div>"
      ],
      "text/plain": [
       "            日期      开盘      最高      最低      收盘        成交量\n",
       "0   2021-11-29  0.1971  0.2008  0.1766  0.1972   30513774\n",
       "1   2021-11-30  0.2008  0.2084  0.1682  0.1801   39758101\n",
       "2   2021-12-01  0.1801  0.1952  0.1729  0.1898   67418913\n",
       "3   2021-12-02  0.1851  0.2081  0.1776  0.2003  140634378\n",
       "4   2021-12-03  0.2045  0.2237  0.1979  0.2207   58243454\n",
       "5   2021-12-06  0.2292  0.2548  0.2275  0.2332   59529638\n",
       "6   2021-12-07  0.2473  0.2637  0.2388  0.2536   50294197\n",
       "7   2021-12-08  0.2536  0.3072  0.2474  0.3060   40615443\n",
       "8   2021-12-09  0.3188  0.3980  0.3082  0.3570   39641041\n",
       "9   2021-12-10  0.3470  0.3588  0.3409  0.3497    9573629\n",
       "10  2021-12-13  0.3705  0.4261  0.3552  0.3586   33503269\n",
       "11  2021-12-14  0.3480  0.3618  0.3350  0.3430    9681920\n",
       "12  2021-12-15  0.3300  0.3470  0.3070  0.3070    7560043\n",
       "13  2021-12-16  0.3146  0.3197  0.2981  0.3160   20621051\n",
       "14  2021-12-17  0.3157  0.3175  0.2689  0.2711   12724804\n",
       "15  2021-12-20  0.2637  0.2807  0.2388  0.2425   10346893\n",
       "16  2021-12-21  0.2504  0.2643  0.2457  0.2594    6888985\n",
       "17  2021-12-22  0.2685  0.2699  0.2398  0.2398    7812683"
      ]
     },
     "execution_count": 132,
     "metadata": {},
     "output_type": "execute_result"
    }
   ],
   "source": [
    "import akshare as ak\n",
    "ak.option_sse_daily_sina(symbol='10003749')"
   ]
  },
  {
   "cell_type": "code",
   "execution_count": 131,
   "metadata": {},
   "outputs": [
    {
     "name": "stdout",
     "output_type": "stream",
     "text": [
      "atm:3.2\n",
      "step 0.1 => 3.3000000000000003\n",
      "step 0.1 => 3.4000000000000004\n",
      "step 0.1 => 3.5000000000000004\n",
      "step 0.1 => 3.6000000000000005\n",
      "dynmaic name 'P9M3 on 20211220 resolved to 510050P2203M03600\n"
     ]
    },
    {
     "data": {
      "text/plain": [
       "'510050P2203M03600'"
      ]
     },
     "execution_count": 131,
     "metadata": {},
     "output_type": "execute_result"
    }
   ],
   "source": [
    "import replay\n",
    "import hist_analysis\n",
    "import importlib\n",
    "importlib.reload(replay)\n",
    "hist_analysis.History.loaddata()\n",
    "replay.Account.resolveContract('P9M3', '20211220')"
   ]
  },
  {
   "cell_type": "code",
   "execution_count": 183,
   "metadata": {},
   "outputs": [
    {
     "data": {
      "application/vnd.plotly.v1+json": {
       "config": {
        "plotlyServerURL": "https://plot.ly"
       },
       "data": [
        {
         "name": "spot",
         "type": "scatter",
         "x": [
          0,
          1,
          2,
          3,
          4,
          5,
          6,
          7,
          8,
          9,
          10,
          11,
          12,
          13,
          14,
          15,
          16,
          17,
          18,
          19
         ],
         "xaxis": "x",
         "y": [
          2.914,
          2.871,
          2.844,
          2.816,
          2.78,
          2.795,
          2.662,
          2.664,
          2.714,
          2.749,
          2.793,
          2.781,
          2.703,
          2.677,
          2.701,
          2.722,
          2.702,
          2.729,
          2.702,
          2.737
         ],
         "yaxis": "y2"
        },
        {
         "name": "p&l-amount",
         "type": "scatter",
         "x": [
          0,
          1,
          2,
          3,
          4,
          5,
          6,
          7,
          8,
          9,
          10,
          11,
          12,
          13,
          14,
          15,
          16,
          17,
          18,
          19
         ],
         "xaxis": "x",
         "y": [
          0,
          1320,
          2020,
          3440,
          6480,
          5240,
          19120,
          17020,
          10340,
          5760,
          2980,
          2280,
          8420,
          10600,
          7040,
          4580,
          6280,
          3220,
          4840,
          1340
         ],
         "yaxis": "y"
        },
        {
         "name": "p&l-percent",
         "type": "scatter",
         "x": [
          0,
          1,
          2,
          3,
          4,
          5,
          6,
          7,
          8,
          9,
          10,
          11,
          12,
          13,
          14,
          15,
          16,
          17,
          18,
          19
         ],
         "xaxis": "x2",
         "y": [
          0,
          42.3,
          64.7,
          110.3,
          207.7,
          167.9,
          612.8,
          545.5,
          331.4,
          184.60000000000002,
          95.5,
          73.1,
          269.9,
          339.7,
          225.59999999999997,
          146.8,
          201.29999999999998,
          103.2,
          155.1,
          42.9
         ],
         "yaxis": "y4"
        },
        {
         "name": "delta",
         "type": "scatter",
         "x": [
          0,
          1,
          2,
          3,
          4,
          5,
          6,
          7,
          8,
          9,
          10,
          11,
          12,
          13,
          14,
          15,
          16,
          17,
          18,
          19
         ],
         "xaxis": "x2",
         "y": [
          -0.168,
          -0.208,
          -0.2389999999999999,
          -0.276,
          -0.33,
          -0.304,
          -0.547,
          -0.545,
          -0.445,
          -0.375,
          -0.291,
          -0.295,
          -0.4699999999999999,
          -0.542,
          -0.477,
          -0.418,
          -0.476,
          -0.394,
          -0.477,
          -0.349
         ],
         "yaxis": "y5"
        },
        {
         "name": "long vol",
         "type": "bar",
         "x": [
          0,
          1,
          2,
          3,
          4,
          5,
          6,
          7,
          8,
          9,
          10,
          11,
          12,
          13,
          14,
          15,
          16,
          17,
          18,
          19
         ],
         "xaxis": "x2",
         "y": [
          20,
          20,
          20,
          20,
          20,
          20,
          20,
          20,
          20,
          20,
          20,
          20,
          20,
          20,
          20,
          20,
          20,
          20,
          20,
          20
         ],
         "yaxis": "y3"
        },
        {
         "name": "short vol",
         "type": "bar",
         "x": [
          0,
          1,
          2,
          3,
          4,
          5,
          6,
          7,
          8,
          9,
          10,
          11,
          12,
          13,
          14,
          15,
          16,
          17,
          18,
          19
         ],
         "xaxis": "x2",
         "y": [
          0,
          0,
          0,
          0,
          0,
          0,
          0,
          0,
          0,
          0,
          0,
          0,
          0,
          0,
          0,
          0,
          0,
          0,
          0,
          0
         ],
         "yaxis": "y3"
        }
       ],
       "layout": {
        "barmode": "stack",
        "height": 600,
        "template": {
         "data": {
          "bar": [
           {
            "error_x": {
             "color": "#2a3f5f"
            },
            "error_y": {
             "color": "#2a3f5f"
            },
            "marker": {
             "line": {
              "color": "#E5ECF6",
              "width": 0.5
             },
             "pattern": {
              "fillmode": "overlay",
              "size": 10,
              "solidity": 0.2
             }
            },
            "type": "bar"
           }
          ],
          "barpolar": [
           {
            "marker": {
             "line": {
              "color": "#E5ECF6",
              "width": 0.5
             },
             "pattern": {
              "fillmode": "overlay",
              "size": 10,
              "solidity": 0.2
             }
            },
            "type": "barpolar"
           }
          ],
          "carpet": [
           {
            "aaxis": {
             "endlinecolor": "#2a3f5f",
             "gridcolor": "white",
             "linecolor": "white",
             "minorgridcolor": "white",
             "startlinecolor": "#2a3f5f"
            },
            "baxis": {
             "endlinecolor": "#2a3f5f",
             "gridcolor": "white",
             "linecolor": "white",
             "minorgridcolor": "white",
             "startlinecolor": "#2a3f5f"
            },
            "type": "carpet"
           }
          ],
          "choropleth": [
           {
            "colorbar": {
             "outlinewidth": 0,
             "ticks": ""
            },
            "type": "choropleth"
           }
          ],
          "contour": [
           {
            "colorbar": {
             "outlinewidth": 0,
             "ticks": ""
            },
            "colorscale": [
             [
              0,
              "#0d0887"
             ],
             [
              0.1111111111111111,
              "#46039f"
             ],
             [
              0.2222222222222222,
              "#7201a8"
             ],
             [
              0.3333333333333333,
              "#9c179e"
             ],
             [
              0.4444444444444444,
              "#bd3786"
             ],
             [
              0.5555555555555556,
              "#d8576b"
             ],
             [
              0.6666666666666666,
              "#ed7953"
             ],
             [
              0.7777777777777778,
              "#fb9f3a"
             ],
             [
              0.8888888888888888,
              "#fdca26"
             ],
             [
              1,
              "#f0f921"
             ]
            ],
            "type": "contour"
           }
          ],
          "contourcarpet": [
           {
            "colorbar": {
             "outlinewidth": 0,
             "ticks": ""
            },
            "type": "contourcarpet"
           }
          ],
          "heatmap": [
           {
            "colorbar": {
             "outlinewidth": 0,
             "ticks": ""
            },
            "colorscale": [
             [
              0,
              "#0d0887"
             ],
             [
              0.1111111111111111,
              "#46039f"
             ],
             [
              0.2222222222222222,
              "#7201a8"
             ],
             [
              0.3333333333333333,
              "#9c179e"
             ],
             [
              0.4444444444444444,
              "#bd3786"
             ],
             [
              0.5555555555555556,
              "#d8576b"
             ],
             [
              0.6666666666666666,
              "#ed7953"
             ],
             [
              0.7777777777777778,
              "#fb9f3a"
             ],
             [
              0.8888888888888888,
              "#fdca26"
             ],
             [
              1,
              "#f0f921"
             ]
            ],
            "type": "heatmap"
           }
          ],
          "heatmapgl": [
           {
            "colorbar": {
             "outlinewidth": 0,
             "ticks": ""
            },
            "colorscale": [
             [
              0,
              "#0d0887"
             ],
             [
              0.1111111111111111,
              "#46039f"
             ],
             [
              0.2222222222222222,
              "#7201a8"
             ],
             [
              0.3333333333333333,
              "#9c179e"
             ],
             [
              0.4444444444444444,
              "#bd3786"
             ],
             [
              0.5555555555555556,
              "#d8576b"
             ],
             [
              0.6666666666666666,
              "#ed7953"
             ],
             [
              0.7777777777777778,
              "#fb9f3a"
             ],
             [
              0.8888888888888888,
              "#fdca26"
             ],
             [
              1,
              "#f0f921"
             ]
            ],
            "type": "heatmapgl"
           }
          ],
          "histogram": [
           {
            "marker": {
             "pattern": {
              "fillmode": "overlay",
              "size": 10,
              "solidity": 0.2
             }
            },
            "type": "histogram"
           }
          ],
          "histogram2d": [
           {
            "colorbar": {
             "outlinewidth": 0,
             "ticks": ""
            },
            "colorscale": [
             [
              0,
              "#0d0887"
             ],
             [
              0.1111111111111111,
              "#46039f"
             ],
             [
              0.2222222222222222,
              "#7201a8"
             ],
             [
              0.3333333333333333,
              "#9c179e"
             ],
             [
              0.4444444444444444,
              "#bd3786"
             ],
             [
              0.5555555555555556,
              "#d8576b"
             ],
             [
              0.6666666666666666,
              "#ed7953"
             ],
             [
              0.7777777777777778,
              "#fb9f3a"
             ],
             [
              0.8888888888888888,
              "#fdca26"
             ],
             [
              1,
              "#f0f921"
             ]
            ],
            "type": "histogram2d"
           }
          ],
          "histogram2dcontour": [
           {
            "colorbar": {
             "outlinewidth": 0,
             "ticks": ""
            },
            "colorscale": [
             [
              0,
              "#0d0887"
             ],
             [
              0.1111111111111111,
              "#46039f"
             ],
             [
              0.2222222222222222,
              "#7201a8"
             ],
             [
              0.3333333333333333,
              "#9c179e"
             ],
             [
              0.4444444444444444,
              "#bd3786"
             ],
             [
              0.5555555555555556,
              "#d8576b"
             ],
             [
              0.6666666666666666,
              "#ed7953"
             ],
             [
              0.7777777777777778,
              "#fb9f3a"
             ],
             [
              0.8888888888888888,
              "#fdca26"
             ],
             [
              1,
              "#f0f921"
             ]
            ],
            "type": "histogram2dcontour"
           }
          ],
          "mesh3d": [
           {
            "colorbar": {
             "outlinewidth": 0,
             "ticks": ""
            },
            "type": "mesh3d"
           }
          ],
          "parcoords": [
           {
            "line": {
             "colorbar": {
              "outlinewidth": 0,
              "ticks": ""
             }
            },
            "type": "parcoords"
           }
          ],
          "pie": [
           {
            "automargin": true,
            "type": "pie"
           }
          ],
          "scatter": [
           {
            "fillpattern": {
             "fillmode": "overlay",
             "size": 10,
             "solidity": 0.2
            },
            "type": "scatter"
           }
          ],
          "scatter3d": [
           {
            "line": {
             "colorbar": {
              "outlinewidth": 0,
              "ticks": ""
             }
            },
            "marker": {
             "colorbar": {
              "outlinewidth": 0,
              "ticks": ""
             }
            },
            "type": "scatter3d"
           }
          ],
          "scattercarpet": [
           {
            "marker": {
             "colorbar": {
              "outlinewidth": 0,
              "ticks": ""
             }
            },
            "type": "scattercarpet"
           }
          ],
          "scattergeo": [
           {
            "marker": {
             "colorbar": {
              "outlinewidth": 0,
              "ticks": ""
             }
            },
            "type": "scattergeo"
           }
          ],
          "scattergl": [
           {
            "marker": {
             "colorbar": {
              "outlinewidth": 0,
              "ticks": ""
             }
            },
            "type": "scattergl"
           }
          ],
          "scattermapbox": [
           {
            "marker": {
             "colorbar": {
              "outlinewidth": 0,
              "ticks": ""
             }
            },
            "type": "scattermapbox"
           }
          ],
          "scatterpolar": [
           {
            "marker": {
             "colorbar": {
              "outlinewidth": 0,
              "ticks": ""
             }
            },
            "type": "scatterpolar"
           }
          ],
          "scatterpolargl": [
           {
            "marker": {
             "colorbar": {
              "outlinewidth": 0,
              "ticks": ""
             }
            },
            "type": "scatterpolargl"
           }
          ],
          "scatterternary": [
           {
            "marker": {
             "colorbar": {
              "outlinewidth": 0,
              "ticks": ""
             }
            },
            "type": "scatterternary"
           }
          ],
          "surface": [
           {
            "colorbar": {
             "outlinewidth": 0,
             "ticks": ""
            },
            "colorscale": [
             [
              0,
              "#0d0887"
             ],
             [
              0.1111111111111111,
              "#46039f"
             ],
             [
              0.2222222222222222,
              "#7201a8"
             ],
             [
              0.3333333333333333,
              "#9c179e"
             ],
             [
              0.4444444444444444,
              "#bd3786"
             ],
             [
              0.5555555555555556,
              "#d8576b"
             ],
             [
              0.6666666666666666,
              "#ed7953"
             ],
             [
              0.7777777777777778,
              "#fb9f3a"
             ],
             [
              0.8888888888888888,
              "#fdca26"
             ],
             [
              1,
              "#f0f921"
             ]
            ],
            "type": "surface"
           }
          ],
          "table": [
           {
            "cells": {
             "fill": {
              "color": "#EBF0F8"
             },
             "line": {
              "color": "white"
             }
            },
            "header": {
             "fill": {
              "color": "#C8D4E3"
             },
             "line": {
              "color": "white"
             }
            },
            "type": "table"
           }
          ]
         },
         "layout": {
          "annotationdefaults": {
           "arrowcolor": "#2a3f5f",
           "arrowhead": 0,
           "arrowwidth": 1
          },
          "autotypenumbers": "strict",
          "coloraxis": {
           "colorbar": {
            "outlinewidth": 0,
            "ticks": ""
           }
          },
          "colorscale": {
           "diverging": [
            [
             0,
             "#8e0152"
            ],
            [
             0.1,
             "#c51b7d"
            ],
            [
             0.2,
             "#de77ae"
            ],
            [
             0.3,
             "#f1b6da"
            ],
            [
             0.4,
             "#fde0ef"
            ],
            [
             0.5,
             "#f7f7f7"
            ],
            [
             0.6,
             "#e6f5d0"
            ],
            [
             0.7,
             "#b8e186"
            ],
            [
             0.8,
             "#7fbc41"
            ],
            [
             0.9,
             "#4d9221"
            ],
            [
             1,
             "#276419"
            ]
           ],
           "sequential": [
            [
             0,
             "#0d0887"
            ],
            [
             0.1111111111111111,
             "#46039f"
            ],
            [
             0.2222222222222222,
             "#7201a8"
            ],
            [
             0.3333333333333333,
             "#9c179e"
            ],
            [
             0.4444444444444444,
             "#bd3786"
            ],
            [
             0.5555555555555556,
             "#d8576b"
            ],
            [
             0.6666666666666666,
             "#ed7953"
            ],
            [
             0.7777777777777778,
             "#fb9f3a"
            ],
            [
             0.8888888888888888,
             "#fdca26"
            ],
            [
             1,
             "#f0f921"
            ]
           ],
           "sequentialminus": [
            [
             0,
             "#0d0887"
            ],
            [
             0.1111111111111111,
             "#46039f"
            ],
            [
             0.2222222222222222,
             "#7201a8"
            ],
            [
             0.3333333333333333,
             "#9c179e"
            ],
            [
             0.4444444444444444,
             "#bd3786"
            ],
            [
             0.5555555555555556,
             "#d8576b"
            ],
            [
             0.6666666666666666,
             "#ed7953"
            ],
            [
             0.7777777777777778,
             "#fb9f3a"
            ],
            [
             0.8888888888888888,
             "#fdca26"
            ],
            [
             1,
             "#f0f921"
            ]
           ]
          },
          "colorway": [
           "#636efa",
           "#EF553B",
           "#00cc96",
           "#ab63fa",
           "#FFA15A",
           "#19d3f3",
           "#FF6692",
           "#B6E880",
           "#FF97FF",
           "#FECB52"
          ],
          "font": {
           "color": "#2a3f5f"
          },
          "geo": {
           "bgcolor": "white",
           "lakecolor": "white",
           "landcolor": "#E5ECF6",
           "showlakes": true,
           "showland": true,
           "subunitcolor": "white"
          },
          "hoverlabel": {
           "align": "left"
          },
          "hovermode": "closest",
          "mapbox": {
           "style": "light"
          },
          "paper_bgcolor": "white",
          "plot_bgcolor": "#E5ECF6",
          "polar": {
           "angularaxis": {
            "gridcolor": "white",
            "linecolor": "white",
            "ticks": ""
           },
           "bgcolor": "#E5ECF6",
           "radialaxis": {
            "gridcolor": "white",
            "linecolor": "white",
            "ticks": ""
           }
          },
          "scene": {
           "xaxis": {
            "backgroundcolor": "#E5ECF6",
            "gridcolor": "white",
            "gridwidth": 2,
            "linecolor": "white",
            "showbackground": true,
            "ticks": "",
            "zerolinecolor": "white"
           },
           "yaxis": {
            "backgroundcolor": "#E5ECF6",
            "gridcolor": "white",
            "gridwidth": 2,
            "linecolor": "white",
            "showbackground": true,
            "ticks": "",
            "zerolinecolor": "white"
           },
           "zaxis": {
            "backgroundcolor": "#E5ECF6",
            "gridcolor": "white",
            "gridwidth": 2,
            "linecolor": "white",
            "showbackground": true,
            "ticks": "",
            "zerolinecolor": "white"
           }
          },
          "shapedefaults": {
           "line": {
            "color": "#2a3f5f"
           }
          },
          "ternary": {
           "aaxis": {
            "gridcolor": "white",
            "linecolor": "white",
            "ticks": ""
           },
           "baxis": {
            "gridcolor": "white",
            "linecolor": "white",
            "ticks": ""
           },
           "bgcolor": "#E5ECF6",
           "caxis": {
            "gridcolor": "white",
            "linecolor": "white",
            "ticks": ""
           }
          },
          "title": {
           "x": 0.05
          },
          "xaxis": {
           "automargin": true,
           "gridcolor": "white",
           "linecolor": "white",
           "ticks": "",
           "title": {
            "standoff": 15
           },
           "zerolinecolor": "white",
           "zerolinewidth": 2
          },
          "yaxis": {
           "automargin": true,
           "gridcolor": "white",
           "linecolor": "white",
           "ticks": "",
           "title": {
            "standoff": 15
           },
           "zerolinecolor": "white",
           "zerolinewidth": 2
          }
         }
        },
        "title": {
         "text": "replay"
        },
        "xaxis": {
         "anchor": "y",
         "domain": [
          0,
          0.94
         ],
         "matches": "x2",
         "showticklabels": false
        },
        "xaxis2": {
         "anchor": "y3",
         "domain": [
          0,
          0.94
         ]
        },
        "yaxis": {
         "anchor": "x",
         "domain": [
          0.575,
          1
         ]
        },
        "yaxis2": {
         "anchor": "x",
         "overlaying": "y",
         "side": "right"
        },
        "yaxis3": {
         "anchor": "x2",
         "domain": [
          0,
          0.425
         ]
        },
        "yaxis4": {
         "anchor": "x2",
         "overlaying": "y3",
         "side": "right",
         "title": {
          "text": "pl"
         }
        },
        "yaxis5": {
         "anchor": "free",
         "overlaying": "y3",
         "position": 1,
         "range": [
          -1,
          1
         ],
         "side": "right",
         "title": {
          "text": "delta"
         }
        }
       }
      }
     },
     "metadata": {},
     "output_type": "display_data"
    }
   ],
   "source": [
    "import plotly.graph_objs as go\n",
    "from plotly.subplots import make_subplots\n",
    "\n",
    "replay_df = pd.read_csv(\"res.csv\", parse_dates=True)\n",
    "\n",
    "fig = make_subplots(rows=2, cols=1, shared_xaxes=True, \n",
    "    specs=[\n",
    "        [{'secondary_y':True}], \n",
    "        [{}]])\n",
    "\n",
    "spot_tr = go.Scatter(x=replay_df.index, y=replay_df['spot'], name='spot')\n",
    "pl_amt_tr = go.Scatter(x=replay_df.index, y=replay_df['pl_amt'], name='p&l-amount')\n",
    "fig.add_traces([spot_tr, pl_amt_tr], rows=1, cols=1, secondary_ys=[True, False])\n",
    "\n",
    "pl_pct_tr = go.Scatter(x=replay_df.index, y=replay_df['pl_pct']*100, name='p&l-percent')\n",
    "delta_tr = go.Scatter(x=replay_df.index, y=replay_df['delta'], name='delta')\n",
    "long_vol_tr = go.Bar(x=replay_df.index, y=replay_df['long_vol'], name='long vol')\n",
    "short_vol_tr = go.Bar(x=replay_df.index, y=replay_df['short_vol'], name='short vol')\n",
    "fig.add_traces([pl_pct_tr, delta_tr, long_vol_tr, short_vol_tr], rows=2, cols=1)\n",
    "\n",
    "fig['data'][2]['yaxis'] = 'y4'\n",
    "fig['data'][3]['yaxis'] = 'y5'\n",
    "fig['layout']['yaxis4']=dict(\n",
    "        title=\"pl\",\n",
    "        overlaying=\"y3\",\n",
    "        anchor=\"x2\",\n",
    "        side=\"right\"\n",
    "        #position=0.15\n",
    "    )\n",
    "fig['layout']['yaxis5']=dict(\n",
    "        title=\"delta\",\n",
    "        anchor=\"free\",\n",
    "        overlaying='y3',\n",
    "        range=[-1, 1],\n",
    "        side=\"right\",\n",
    "        position=1\n",
    "    )\n",
    "fig.update_layout(barmode='stack', height=600, title='replay')\n",
    "fig.show()"
   ]
  },
  {
   "cell_type": "code",
   "execution_count": 184,
   "metadata": {},
   "outputs": [
    {
     "name": "stdout",
     "output_type": "stream",
     "text": [
      "Layout({\n",
      "    'barmode': 'stack',\n",
      "    'height': 600,\n",
      "    'template': '...',\n",
      "    'title': {'text': 'replay'},\n",
      "    'xaxis': {'anchor': 'y', 'domain': [0.0, 0.94], 'matches': 'x2', 'showticklabels': False},\n",
      "    'xaxis2': {'anchor': 'y3', 'domain': [0.0, 0.94]},\n",
      "    'yaxis': {'anchor': 'x', 'domain': [0.575, 1.0]},\n",
      "    'yaxis2': {'anchor': 'x', 'overlaying': 'y', 'side': 'right'},\n",
      "    'yaxis3': {'anchor': 'x2', 'domain': [0.0, 0.425]},\n",
      "    'yaxis4': {'anchor': 'x2', 'overlaying': 'y3', 'side': 'right', 'title': {'text': 'pl'}},\n",
      "    'yaxis5': {'anchor': 'free',\n",
      "               'overlaying': 'y3',\n",
      "               'position': 1,\n",
      "               'range': [-1, 1],\n",
      "               'side': 'right',\n",
      "               'title': {'text': 'delta'}}\n",
      "})\n",
      "0 spot x y2\n",
      "1 p&l-amount x y\n",
      "2 p&l-percent x2 y4\n",
      "3 delta x2 y5\n",
      "4 long vol x2 y3\n",
      "5 short vol x2 y3\n"
     ]
    }
   ],
   "source": [
    "\n",
    "print(fig['layout'])\n",
    "\n",
    "for i in range(len(fig['data'])):\n",
    "    print(i, fig['data'][i].name, fig['data'][i]['xaxis'], fig['data'][i]['yaxis'])"
   ]
  }
 ],
 "metadata": {
  "interpreter": {
   "hash": "ba384028be1364a92e6728f44c040b298f70c0ea29ba1c5a8ea8d430032be05a"
  },
  "kernelspec": {
   "display_name": "Python 3.8.8 64-bit ('base': conda)",
   "language": "python",
   "name": "python3"
  },
  "language_info": {
   "codemirror_mode": {
    "name": "ipython",
    "version": 3
   },
   "file_extension": ".py",
   "mimetype": "text/x-python",
   "name": "python",
   "nbconvert_exporter": "python",
   "pygments_lexer": "ipython3",
   "version": "3.8.8"
  },
  "orig_nbformat": 4
 },
 "nbformat": 4,
 "nbformat_minor": 2
}
